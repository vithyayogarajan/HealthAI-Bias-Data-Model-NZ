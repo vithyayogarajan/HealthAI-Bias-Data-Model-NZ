{
  "cells": [
    {
      "cell_type": "markdown",
      "source": [
        "Pre-processing Text (free-form medical text) and Vizualising the test sequence length of the data."
      ],
      "metadata": {
        "id": "TxWpwJY4TV5R"
      },
      "id": "TxWpwJY4TV5R"
    },
    {
      "cell_type": "code",
      "execution_count": null,
      "id": "12edfaff",
      "metadata": {
        "id": "12edfaff"
      },
      "outputs": [],
      "source": [
        "import pandas as pd\n",
        "df = pd.read_csv(\"text.csv\")"
      ]
    },
    {
      "cell_type": "code",
      "execution_count": null,
      "id": "8779fecc",
      "metadata": {
        "id": "8779fecc"
      },
      "outputs": [],
      "source": [
        "import re, string\n",
        "\n",
        "def preprocessing(t):\n",
        "    t = re.sub('\\n', ' ',t)\n",
        "    t = re.sub('\\r', ' ',t)\n",
        "    t = re.sub('[0-9]+\\.', '', t)  \n",
        "    text = \"\".join([w for w in t if w not in string.punctuation])\n",
        "    ttrial = text.split()\n",
        "    tt = [y for y in ttrial if not y.isnumeric()]\n",
        "    tf = \" \".join(tt)\n",
        "    return tf\n",
        "\n",
        "### define pre-processing"
      ]
    },
    {
      "cell_type": "code",
      "execution_count": null,
      "id": "1e9e46f9",
      "metadata": {
        "id": "1e9e46f9",
        "outputId": "71d03bcf-1905-4f0a-9e65-cc1f52109691"
      },
      "outputs": [
        {
          "data": {
            "text/html": [
              "<div>\n",
              "<style scoped>\n",
              "    .dataframe tbody tr th:only-of-type {\n",
              "        vertical-align: middle;\n",
              "    }\n",
              "\n",
              "    .dataframe tbody tr th {\n",
              "        vertical-align: top;\n",
              "    }\n",
              "\n",
              "    .dataframe thead th {\n",
              "        text-align: right;\n",
              "    }\n",
              "</style>\n",
              "<table border=\"1\" class=\"dataframe\">\n",
              "  <thead>\n",
              "    <tr style=\"text-align: right;\">\n",
              "      <th></th>\n",
              "      <th>ID_index</th>\n",
              "      <th>Practice ID</th>\n",
              "      <th>Patient ID</th>\n",
              "      <th>Text_Consult</th>\n",
              "      <th>preText</th>\n",
              "    </tr>\n",
              "  </thead>\n",
              "  <tbody>\n",
              "    <tr>\n",
              "      <th>0</th>\n",
              "      <td>ID_0</td>\n",
              "      <td>3</td>\n",
              "      <td>471</td>\n",
              "      <td>bestpractice  lower L  lateral chest pain Righ...</td>\n",
              "      <td>bestpractice lower L lateral chest pain Right ...</td>\n",
              "    </tr>\n",
              "    <tr>\n",
              "      <th>1</th>\n",
              "      <td>ID_1</td>\n",
              "      <td>3</td>\n",
              "      <td>472</td>\n",
              "      <td>In for 4yr imms - wgt 30.3kg. Mother states ...</td>\n",
              "      <td>In for 4yr imms wgt 3kg Mother states that em ...</td>\n",
              "    </tr>\n",
              "    <tr>\n",
              "      <th>2</th>\n",
              "      <td>ID_2</td>\n",
              "      <td>3</td>\n",
              "      <td>473</td>\n",
              "      <td>Left Tripple b, Galvin bestpractice type 1 sin...</td>\n",
              "      <td>Left Tripple b Galvin bestpractice type since ...</td>\n",
              "    </tr>\n",
              "    <tr>\n",
              "      <th>3</th>\n",
              "      <td>ID_3</td>\n",
              "      <td>3</td>\n",
              "      <td>473</td>\n",
              "      <td>Left Tripple b, Galvin bestpractice type 1 sin...</td>\n",
              "      <td>Left Tripple b Galvin bestpractice type since ...</td>\n",
              "    </tr>\n",
              "    <tr>\n",
              "      <th>4</th>\n",
              "      <td>ID_4</td>\n",
              "      <td>3</td>\n",
              "      <td>474</td>\n",
              "      <td>'social' smoker when 17- 30's; 6/12 continuous...</td>\n",
              "      <td>social smoker when 30s continuously only bestp...</td>\n",
              "    </tr>\n",
              "  </tbody>\n",
              "</table>\n",
              "</div>"
            ],
            "text/plain": [
              "  ID_index  Practice ID  Patient ID  \\\n",
              "0     ID_0            3         471   \n",
              "1     ID_1            3         472   \n",
              "2     ID_2            3         473   \n",
              "3     ID_3            3         473   \n",
              "4     ID_4            3         474   \n",
              "\n",
              "                                        Text_Consult  \\\n",
              "0  bestpractice  lower L  lateral chest pain Righ...   \n",
              "1    In for 4yr imms - wgt 30.3kg. Mother states ...   \n",
              "2  Left Tripple b, Galvin bestpractice type 1 sin...   \n",
              "3  Left Tripple b, Galvin bestpractice type 1 sin...   \n",
              "4  'social' smoker when 17- 30's; 6/12 continuous...   \n",
              "\n",
              "                                             preText  \n",
              "0  bestpractice lower L lateral chest pain Right ...  \n",
              "1  In for 4yr imms wgt 3kg Mother states that em ...  \n",
              "2  Left Tripple b Galvin bestpractice type since ...  \n",
              "3  Left Tripple b Galvin bestpractice type since ...  \n",
              "4  social smoker when 30s continuously only bestp...  "
            ]
          },
          "execution_count": 7,
          "metadata": {},
          "output_type": "execute_result"
        }
      ],
      "source": [
        "tt = []\n",
        "\n",
        "for ind,row in df.iterrows():\n",
        "    Tx = str(row['Text_Consult'])\n",
        "    Txp = preprocessing(Tx)\n",
        "    tt.append(Txp)\n",
        "    \n",
        "df['preText'] = tt    \n",
        "df.head()\n",
        "\n",
        "### including an extremely small view of the data to ensure understaning and reproduceability. "
      ]
    },
    {
      "cell_type": "code",
      "execution_count": null,
      "id": "93c0753c",
      "metadata": {
        "id": "93c0753c"
      },
      "outputs": [],
      "source": [
        "text1 = df.drop(['Text_Consult'],axis=1)"
      ]
    },
    {
      "cell_type": "code",
      "execution_count": null,
      "id": "fea9410f",
      "metadata": {
        "id": "fea9410f"
      },
      "outputs": [],
      "source": [
        "Rclas = text1.groupby(['Practice ID','Patient ID'])['preText'] \\\n",
        "                                 .apply(' '.join) \\\n",
        "                                 .reset_index(name='text')"
      ]
    },
    {
      "cell_type": "code",
      "source": [
        "## given the dataframe 'label' includes information about the 'HarmStatus' for each patient from a practice. \n",
        "cons = Rclas.merge(label,how='inner',on=['Patient ID','Practice ID'])"
      ],
      "metadata": {
        "id": "LIKpX2szRbn6"
      },
      "id": "LIKpX2szRbn6",
      "execution_count": null,
      "outputs": []
    },
    {
      "cell_type": "code",
      "execution_count": null,
      "id": "0eeff388",
      "metadata": {
        "id": "0eeff388",
        "outputId": "8cebc20b-c915-4499-92de-1ab7b031bc71"
      },
      "outputs": [
        {
          "name": "stdout",
          "output_type": "stream",
          "text": [
            "Cons Patient ID  9068\n",
            "Cons Practice ID  44\n"
          ]
        }
      ],
      "source": [
        "print(\"Cons Patient ID \", cons['Patient ID'].nunique())\n",
        "print(\"Cons Practice ID \", cons['Practice ID'].nunique())"
      ]
    },
    {
      "cell_type": "code",
      "execution_count": null,
      "id": "a2cc8bfd",
      "metadata": {
        "id": "a2cc8bfd",
        "outputId": "3c7fa3c7-f3dd-46ac-a673-7e5857d778fa"
      },
      "outputs": [
        {
          "data": {
            "text/plain": [
              "0.0    7563\n",
              "1.0    1505\n",
              "Name: HarmStatus, dtype: int64"
            ]
          },
          "execution_count": 17,
          "metadata": {},
          "output_type": "execute_result"
        }
      ],
      "source": [
        "## removing any data with'Consultation Text' of length <1\n",
        "LE = []\n",
        "for ind,row in cons.iterrows():\n",
        "    tt = str(row['Text']).split()\n",
        "    le = len(tt)\n",
        "    LE.append(le)\n",
        "cons['length'] = LE\n",
        "\n",
        "FF = cons[cons['length']>1] \n",
        "\n",
        "FF['HarmStatus'].value_counts() ## label count of 'Harm'"
      ]
    },
    {
      "cell_type": "code",
      "execution_count": null,
      "id": "1c05542b",
      "metadata": {
        "id": "1c05542b",
        "outputId": "293804ad-f7fe-4692-fc41-b414805d2126"
      },
      "outputs": [
        {
          "data": {
            "text/plain": [
              "2"
            ]
          },
          "execution_count": 25,
          "metadata": {},
          "output_type": "execute_result"
        }
      ],
      "source": [
        "scrFF['length'].min()"
      ]
    },
    {
      "cell_type": "code",
      "execution_count": null,
      "id": "230969ea",
      "metadata": {
        "id": "230969ea",
        "outputId": "cec918bb-9976-4290-d39d-dc738fb067b2"
      },
      "outputs": [
        {
          "data": {
            "text/plain": [
              "25962"
            ]
          },
          "execution_count": 26,
          "metadata": {},
          "output_type": "execute_result"
        }
      ],
      "source": [
        "scrFF['length'].max()"
      ]
    },
    {
      "cell_type": "code",
      "execution_count": null,
      "id": "66434c14",
      "metadata": {
        "id": "66434c14",
        "outputId": "88783a74-2e2b-41ae-f4cf-005353fbfaa2"
      },
      "outputs": [
        {
          "data": {
            "text/plain": [
              "385.0"
            ]
          },
          "execution_count": 45,
          "metadata": {},
          "output_type": "execute_result"
        }
      ],
      "source": [
        "scrFF['length'].median()"
      ]
    },
    {
      "cell_type": "code",
      "execution_count": null,
      "id": "72f94c74",
      "metadata": {
        "id": "72f94c74",
        "outputId": "ccd34dc0-5e67-4021-d55c-d540fe945581"
      },
      "outputs": [
        {
          "data": {
            "image/png": "[encoded data removed]",
            "text/plain": [
              "<Figure size 432x288 with 1 Axes>"
            ]
          },
          "metadata": {
            "needs_background": "light"
          },
          "output_type": "display_data"
        }
      ],
      "source": [
        "import numpy as np; np.random.seed(42)\n",
        "import pandas as pd\n",
        "import matplotlib.pyplot as plt\n",
        "import seaborn as sns\n",
        "labels=['Consults']\n",
        "\n",
        "red_circle = dict(markerfacecolor='red', marker='o')\n",
        "data = [scrFF['length']]\n",
        "m1 = scrFF['length'].mean()\n",
        "st1 = scrFF['length'].std()\n",
        "fig, ax = plt.subplots()\n",
        "bp = plt.boxplot(data,boxprops=dict(color='blue'),labels=['Consults'],vert =False,flierprops=red_circle,widths=(0.8),showmeans=True);\n",
        "plt.xlabel('Sequence Length',fontsize=14)\n",
        "plt.yticks(fontsize=14)\n",
        "plt.text(2, 0.75, 'min = 2', fontsize=12)\n",
        "plt.text(1888, 0.75, 'max = 1888', fontsize=12)\n",
        "plt.text(800, 0.63, 'mean = 744', fontsize=12)\n",
        "plt.text(380, 0.56, 'median = 385', fontsize=12)\n",
        "\n",
        "plt.semilogx();"
      ]
    },
    {
      "cell_type": "code",
      "execution_count": null,
      "id": "16a7173e",
      "metadata": {
        "id": "16a7173e"
      },
      "outputs": [],
      "source": []
    }
  ],
  "metadata": {
    "kernelspec": {
      "display_name": "Python 3 (ipykernel)",
      "language": "python",
      "name": "python3"
    },
    "language_info": {
      "codemirror_mode": {
        "name": "ipython",
        "version": 3
      },
      "file_extension": ".py",
      "mimetype": "text/x-python",
      "name": "python",
      "nbconvert_exporter": "python",
      "pygments_lexer": "ipython3",
      "version": "3.8.13"
    },
    "colab": {
      "provenance": []
    }
  },
  "nbformat": 4,
  "nbformat_minor": 5
}