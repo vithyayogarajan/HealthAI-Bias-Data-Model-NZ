{
  "cells": [
    {
      "cell_type": "code",
      "execution_count": null,
      "metadata": {
        "id": "oPPlvMYtUGZ7"
      },
      "outputs": [],
      "source": [
        "import pandas as pd\n"
      ]
    },
    {
      "cell_type": "code",
      "execution_count": null,
      "metadata": {
        "id": "xV4rrAIQUGaK",
        "outputId": "fc1e2e3b-f712-4644-bba4-b2e52f16e168"
      },
      "outputs": [
        {
          "data": {
            "text/html": [
              "<div>\n",
              "<style scoped>\n",
              "    .dataframe tbody tr th:only-of-type {\n",
              "        vertical-align: middle;\n",
              "    }\n",
              "\n",
              "    .dataframe tbody tr th {\n",
              "        vertical-align: top;\n",
              "    }\n",
              "\n",
              "    .dataframe thead th {\n",
              "        text-align: right;\n",
              "    }\n",
              "</style>\n",
              "<table border=\"1\" class=\"dataframe\">\n",
              "  <thead>\n",
              "    <tr style=\"text-align: right;\">\n",
              "      <th></th>\n",
              "      <th>no Harm</th>\n",
              "      <th>Harm</th>\n",
              "    </tr>\n",
              "  </thead>\n",
              "  <tbody>\n",
              "    <tr>\n",
              "      <th>mr</th>\n",
              "      <td>7743</td>\n",
              "      <td>2240</td>\n",
              "    </tr>\n",
              "    <tr>\n",
              "      <th>mum</th>\n",
              "      <td>4738</td>\n",
              "      <td>1443</td>\n",
              "    </tr>\n",
              "    <tr>\n",
              "      <th>mother</th>\n",
              "      <td>2987</td>\n",
              "      <td>844</td>\n",
              "    </tr>\n",
              "    <tr>\n",
              "      <th>mrs</th>\n",
              "      <td>2709</td>\n",
              "      <td>867</td>\n",
              "    </tr>\n",
              "    <tr>\n",
              "      <th>female</th>\n",
              "      <td>2300</td>\n",
              "      <td>703</td>\n",
              "    </tr>\n",
              "    <tr>\n",
              "      <th>male</th>\n",
              "      <td>2484</td>\n",
              "      <td>690</td>\n",
              "    </tr>\n",
              "  </tbody>\n",
              "</table>\n",
              "</div>"
            ],
            "text/plain": [
              "        no Harm  Harm\n",
              "mr         7743  2240\n",
              "mum        4738  1443\n",
              "mother     2987   844\n",
              "mrs        2709   867\n",
              "female     2300   703\n",
              "male       2484   690"
            ]
          },
          "execution_count": 100,
          "metadata": {},
          "output_type": "execute_result"
        }
      ],
      "source": [
        "# Create the contigency table\n",
        "ODD = pd.DataFrame({'mr' :[7743, 2240],\n",
        "                   'mum':[4738, 1443],\n",
        "                   'mother':[2987,844],\n",
        "                   'female':[2709,867],\n",
        "                   'male':[2300,703],\n",
        "                   'mrs':[2484,690]},index={'no Harm','Harm'})\n",
        "\n"
      ]
    },
    {
      "cell_type": "code",
      "execution_count": null,
      "metadata": {
        "id": "pWoYdeN0UGaU",
        "outputId": "43acf6cb-73c0-44d1-bb08-1b0be8bd97fb"
      },
      "outputs": [
        {
          "data": {
            "text/html": [
              "<div>\n",
              "<style scoped>\n",
              "    .dataframe tbody tr th:only-of-type {\n",
              "        vertical-align: middle;\n",
              "    }\n",
              "\n",
              "    .dataframe tbody tr th {\n",
              "        vertical-align: top;\n",
              "    }\n",
              "\n",
              "    .dataframe thead th {\n",
              "        text-align: right;\n",
              "    }\n",
              "</style>\n",
              "<table border=\"1\" class=\"dataframe\">\n",
              "  <thead>\n",
              "    <tr style=\"text-align: right;\">\n",
              "      <th></th>\n",
              "      <th>mr</th>\n",
              "      <th>mum</th>\n",
              "      <th>mother</th>\n",
              "      <th>female</th>\n",
              "      <th>male</th>\n",
              "      <th>mrs</th>\n",
              "    </tr>\n",
              "  </thead>\n",
              "  <tbody>\n",
              "    <tr>\n",
              "      <th>Harm</th>\n",
              "      <td>7743</td>\n",
              "      <td>4738</td>\n",
              "      <td>2987</td>\n",
              "      <td>2709</td>\n",
              "      <td>2300</td>\n",
              "      <td>2484</td>\n",
              "    </tr>\n",
              "    <tr>\n",
              "      <th>no Harm</th>\n",
              "      <td>2240</td>\n",
              "      <td>1443</td>\n",
              "      <td>844</td>\n",
              "      <td>867</td>\n",
              "      <td>703</td>\n",
              "      <td>690</td>\n",
              "    </tr>\n",
              "  </tbody>\n",
              "</table>\n",
              "</div>"
            ],
            "text/plain": [
              "           mr   mum  mother  female  male   mrs\n",
              "Harm     7743  4738    2987    2709  2300  2484\n",
              "no Harm  2240  1443     844     867   703   690"
            ]
          },
          "execution_count": 71,
          "metadata": {},
          "output_type": "execute_result"
        }
      ],
      "source": [
        "OD"
      ]
    },
    {
      "cell_type": "code",
      "execution_count": null,
      "metadata": {
        "id": "OHjzsbfdUGaW",
        "outputId": "e178cf48-1905-4450-ca71-4b878364dac4"
      },
      "outputs": [
        {
          "name": "stdout",
          "output_type": "stream",
          "text": [
            "chi-square statistic: 9.973892378020068\n",
            "p-value: 0.07597838283854057\n",
            "degree of freedom: 5\n",
            "expected contingency table\n",
            "[[7705.38063063 4770.80613823 2956.95814845 2760.1363453  2317.86617588\n",
            "  2449.85256152]\n",
            " [2277.61936937 1410.19386177  874.04185155  815.8636547   685.13382412\n",
            "   724.14743848]]\n"
          ]
        }
      ],
      "source": [
        "import scipy.stats as stats\n",
        "\n",
        "\n",
        "# chi-square test\n",
        "chiRes = stats.chi2_contingency(OD)\n",
        "# Details\n",
        "print(f'chi-square statistic: {chiRes[0]}')\n",
        "print(f'p-value: {chiRes[1]}')\n",
        "print(f'degree of freedom: {chiRes[2]}')\n",
        "print('expected contingency table') \n",
        "print(chiRes[3])"
      ]
    },
    {
      "cell_type": "raw",
      "metadata": {
        "id": "4zVUv1G4UGaY"
      },
      "source": [
        "With a p-value of more than 0.05, we fail to reject the null hypothesis (H0: no relationship between the 2 variables). Obesity is not associated with being diabetic. The expected contingency table shows the expected values if the null hypothesis is True. The details may be examined from the difference between the values of the expected contingency table (should obesity be strongly associated with being diabetic) and the initial contingency table."
      ]
    },
    {
      "cell_type": "code",
      "execution_count": null,
      "metadata": {
        "id": "2cL6OFdfUGa3"
      },
      "outputs": [],
      "source": []
    }
  ],
  "metadata": {
    "kernelspec": {
      "display_name": "Python 3 (ipykernel)",
      "language": "python",
      "name": "python3"
    },
    "language_info": {
      "codemirror_mode": {
        "name": "ipython",
        "version": 3
      },
      "file_extension": ".py",
      "mimetype": "text/x-python",
      "name": "python",
      "nbconvert_exporter": "python",
      "pygments_lexer": "ipython3",
      "version": "3.8.13"
    },
    "colab": {
      "provenance": []
    }
  },
  "nbformat": 4,
  "nbformat_minor": 0
}