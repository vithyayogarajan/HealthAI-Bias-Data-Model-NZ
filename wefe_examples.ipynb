{
  "cells": [
    {
      "cell_type": "code",
      "execution_count": null,
      "id": "52ec7704",
      "metadata": {
        "id": "52ec7704"
      },
      "outputs": [],
      "source": [
        "#!pip install wefe"
      ]
    },
    {
      "cell_type": "code",
      "execution_count": null,
      "id": "21b18b4e",
      "metadata": {
        "id": "21b18b4e"
      },
      "outputs": [],
      "source": [
        "\n",
        "from wefe import Query, WEAT\n",
        "import gensim.downloader as api\n",
        "from wefe.word_embedding_model import WordEmbeddingModel\n",
        "\n",
        "word2vec_model = WordEmbeddingModel(api.load('word2vec-google-news-300'),\n",
        "                         'word2vec-google-news-300')"
      ]
    },
    {
      "cell_type": "code",
      "execution_count": null,
      "id": "7e1682d4",
      "metadata": {
        "id": "7e1682d4"
      },
      "outputs": [],
      "source": [
        "model = WordEmbeddingModel(api.load('fasttext-wiki-news-subwords-300'),'fasttext-wiki-news-subwords-300')"
      ]
    },
    {
      "cell_type": "code",
      "execution_count": null,
      "id": "18f3a538",
      "metadata": {
        "id": "18f3a538"
      },
      "outputs": [],
      "source": [
        "glove_wiki = WordEmbeddingModel(api.load('glove-wiki-gigaword-300'),\n",
        "                                'glove-wiki-gigaword-300')"
      ]
    },
    {
      "cell_type": "code",
      "execution_count": null,
      "id": "5acbd59b",
      "metadata": {
        "id": "5acbd59b",
        "outputId": "0667a71c-1e37-4323-c561-c9a4109f43cf"
      },
      "outputs": [
        {
          "name": "stderr",
          "output_type": "stream",
          "text": [
            "WARNING:root:The following words from set 'Maori' do not exist within the vocabulary of word2vec-google-news-300: ['Kaiara']\n"
          ]
        },
        {
          "name": "stdout",
          "output_type": "stream",
          "text": [
            "{'query_name': 'European and Maori wrt Pleasant and Unpleasant', 'result': -0.09214564532041553, 'weat': -0.09214564532041553, 'effect_size': -0.7419393391158869, 'p_value': nan}\n"
          ]
        }
      ],
      "source": [
        "# load the weat word sets.\n",
        "from wefe.datasets import load_weat\n",
        "word_sets = load_weat()\n",
        "weat = WEAT()\n",
        "\n",
        "white_common_names = ['Emily', 'Anne', 'Jill', 'Allison', 'Laurie', 'Sarah', 'Meredith', 'Carrie',\n",
        "                      'Kristen', 'Todd', 'Neil', 'Geoffrey', 'Brett', 'Brendan', 'Greg', 'Matthew',\n",
        "                      'Jay', 'Brad']\n",
        "\n",
        "maori_common_names = ['Mia', 'Nikau', 'Aria', 'Ari', 'Aurora', 'Koa', 'Amaia', 'Mateo', 'Kaiara', \n",
        "                      'Keanu', 'Kaia', 'Mikaere', 'Kora',\n",
        "                      'Kairo', 'Kiwa']\n",
        "\n",
        "\n",
        "\n",
        "ethnicity_query = Query(\n",
        "    [white_common_names, maori_common_names],\n",
        "    [word_sets[\"pleasant_5\"], word_sets[\"unpleasant_5\"]],\n",
        "    [\"European\", \"Maori\"],\n",
        "    [\"Pleasant\", \"Unpleasant\"],\n",
        ")\n",
        "result = weat.run_query(ethnicity_query, word2vec_model, warn_not_found_words=True,)\n",
        "print(result)"
      ]
    },
    {
      "cell_type": "code",
      "execution_count": null,
      "id": "b8203151",
      "metadata": {
        "id": "b8203151"
      },
      "outputs": [],
      "source": [
        "# target sets\n",
        "ethnicity = ['white', 'european', 'kiwi','aotearoa','kai','maori','mahi']\n",
        "gender = ['mr','mother','mrs','female','male','daughter','father']\n",
        "white_common_names = ['Emily', 'Anne', 'Jill', 'Allison', 'Laurie', 'Sarah', 'Meredith', 'Carrie',\n",
        "                      'Kristen', 'Todd', 'Neil', 'Geoffrey', 'Brett', 'Brendan', 'Greg', 'Matthew',\n",
        "                      'Jay', 'Brad']\n",
        "\n",
        "maori_common_names = ['Mia', 'Nikau', 'Aria', 'Ari', 'Aurora', 'Koa', 'Amaia', 'Mateo', 'Kaiara', \n",
        "                      'Keanu', 'Kaia', 'Mikaere', 'Kora',\n",
        "                      'Kairo', 'Kiwa']\n",
        "\n",
        "#attribute sets\n",
        "health = ['labtests', 'observation', 'blood','referral','discharge']\n",
        "exercise = ['sports', 'excercise', 'active', 'lazy', 'obese', 'gym']\n",
        "         \n",
        "gender_occupation_query = Query([ethnicity, gender],\n",
        "                                [health, exercise],\n",
        "                                ['ethnicity', 'gender'],\n",
        "                                ['health', 'excercise'])\n",
        "\n",
        "\n",
        "gender_occupation_query3 = Query([white_common_names, maori_common_names],\n",
        "                                [health, exercise],\n",
        "                                ['white', 'maori'],\n",
        "                                ['health', 'excercise'])"
      ]
    },
    {
      "cell_type": "code",
      "execution_count": null,
      "id": "b0809a74",
      "metadata": {
        "id": "b0809a74"
      },
      "outputs": [],
      "source": [
        "# target sets\n",
        "ethnicity = ['white', 'european', 'kiwi','aotearoa','kai','maori','mahi']\n",
        "gender = ['mr','mother','mrs','female','male','daughter','father']\n",
        "#attribute sets\n",
        "healthissues = ['diabetics', 'covid', 'cardio','hospital','stroke']\n",
        "exercise = ['sports', 'excercise', 'active', 'lazy', 'obese', 'gym']\n",
        "         \n",
        "gender_occupation_query1 = Query([ethnicity, gender],\n",
        "                                [healthissues, exercise],\n",
        "                                ['ethnicity', 'gender'],\n",
        "                                ['healthissues', 'excercise'])\n"
      ]
    },
    {
      "cell_type": "code",
      "execution_count": null,
      "id": "9103ad55",
      "metadata": {
        "id": "9103ad55"
      },
      "outputs": [],
      "source": [
        "# target sets\n",
        "#white = ['white', 'european', 'kiwi']\n",
        "maori = ['aotearoa','kai','maori','kia','ora']\n",
        "female = ['mother','mrs','female','daughter','women']\n",
        "#attribute sets\n",
        "healthissues = ['diabetics', 'covid', 'cardio','hospital','stroke']\n",
        "exercise = ['sports', 'excercise', 'active', 'lazy', 'obese', 'gym']\n",
        "         \n",
        "gender_occupation_query2 = Query([female, maori],\n",
        "                                [healthissues, exercise],\n",
        "                                ['female', 'maori'],\n",
        "                                ['healthissues', 'excercise'])"
      ]
    },
    {
      "cell_type": "code",
      "execution_count": null,
      "id": "657cfb32",
      "metadata": {
        "id": "657cfb32"
      },
      "outputs": [],
      "source": [
        "import pandas as pd\n",
        "import numpy as np\n",
        "from functools import reduce\n",
        "import gensim.downloader as api\n",
        "import os\n",
        "\n",
        "from wefe.datasets import (\n",
        "    load_weat,\n",
        "    fetch_eds,\n",
        "    fetch_debias_multiclass,\n",
        "    fetch_debiaswe,\n",
        "    load_bingliu,\n",
        ")\n",
        "from wefe.query import Query\n",
        "from wefe.word_embedding_model import WordEmbeddingModel\n",
        "from wefe.metrics import WEAT, RNSB, RND\n",
        "\n",
        "\n",
        "from wefe.utils import (\n",
        "    run_queries,\n",
        "    plot_queries_results,\n",
        "    create_ranking,\n",
        "    plot_ranking,\n",
        "    calculate_ranking_correlations,\n",
        "    plot_ranking_correlations,\n",
        ")\n",
        "from plotly.subplots import make_subplots"
      ]
    },
    {
      "cell_type": "code",
      "execution_count": null,
      "id": "1b9c76bc",
      "metadata": {
        "id": "1b9c76bc",
        "outputId": "2c86cfac-332c-40cc-963b-7d9281c9244e"
      },
      "outputs": [
        {
          "name": "stderr",
          "output_type": "stream",
          "text": [
            "WARNING:root:The transformation of 'European' into glove-wiki-gigaword-300 embeddings lost proportionally more words than specified in 'lost_words_threshold': 1.0 lost with respect to 0.2 maximum loss allowed.\n",
            "WARNING:root:The transformation of 'Maori' into glove-wiki-gigaword-300 embeddings lost proportionally more words than specified in 'lost_words_threshold': 1.0 lost with respect to 0.2 maximum loss allowed.\n",
            "ERROR:root:At least one set of 'European and Maori wrt Pleasant and Unpleasant' query has proportionally fewer embeddings than allowed by the lost_vocabulary_threshold parameter (0.2). This query will return np.nan.\n",
            "WARNING:root:The transformation of 'white' into glove-wiki-gigaword-300 embeddings lost proportionally more words than specified in 'lost_words_threshold': 1.0 lost with respect to 0.2 maximum loss allowed.\n",
            "WARNING:root:The transformation of 'maori' into glove-wiki-gigaword-300 embeddings lost proportionally more words than specified in 'lost_words_threshold': 1.0 lost with respect to 0.2 maximum loss allowed.\n",
            "ERROR:root:At least one set of 'white and maori wrt health and excercise' query has proportionally fewer embeddings than allowed by the lost_vocabulary_threshold parameter (0.2). This query will return np.nan.\n"
          ]
        },
        {
          "data": {
            "text/html": [
              "<div>\n",
              "<style scoped>\n",
              "    .dataframe tbody tr th:only-of-type {\n",
              "        vertical-align: middle;\n",
              "    }\n",
              "\n",
              "    .dataframe tbody tr th {\n",
              "        vertical-align: top;\n",
              "    }\n",
              "\n",
              "    .dataframe thead th {\n",
              "        text-align: right;\n",
              "    }\n",
              "</style>\n",
              "<table border=\"1\" class=\"dataframe\">\n",
              "  <thead>\n",
              "    <tr style=\"text-align: right;\">\n",
              "      <th>query_name</th>\n",
              "      <th>European and Maori wrt Pleasant and Unpleasant</th>\n",
              "      <th>ethnicity and gender wrt health and excercise</th>\n",
              "      <th>ethnicity and gender wrt healthissues and excercise</th>\n",
              "      <th>female and maori wrt healthissues and excercise</th>\n",
              "      <th>white and maori wrt health and excercise</th>\n",
              "    </tr>\n",
              "    <tr>\n",
              "      <th>model_name</th>\n",
              "      <th></th>\n",
              "      <th></th>\n",
              "      <th></th>\n",
              "      <th></th>\n",
              "      <th></th>\n",
              "    </tr>\n",
              "  </thead>\n",
              "  <tbody>\n",
              "    <tr>\n",
              "      <th>word2vec-google-news-300</th>\n",
              "      <td>-0.092146</td>\n",
              "      <td>-0.348471</td>\n",
              "      <td>-0.304727</td>\n",
              "      <td>0.292163</td>\n",
              "      <td>-0.050812</td>\n",
              "    </tr>\n",
              "    <tr>\n",
              "      <th>glove-wiki-gigaword-300</th>\n",
              "      <td>NaN</td>\n",
              "      <td>-0.365605</td>\n",
              "      <td>-0.164669</td>\n",
              "      <td>0.137607</td>\n",
              "      <td>NaN</td>\n",
              "    </tr>\n",
              "    <tr>\n",
              "      <th>fasttext-wiki-news-subwords-300</th>\n",
              "      <td>0.039421</td>\n",
              "      <td>-0.159674</td>\n",
              "      <td>-0.072817</td>\n",
              "      <td>-0.033873</td>\n",
              "      <td>0.486761</td>\n",
              "    </tr>\n",
              "  </tbody>\n",
              "</table>\n",
              "</div>"
            ],
            "text/plain": [
              "query_name                       European and Maori wrt Pleasant and Unpleasant  \\\n",
              "model_name                                                                        \n",
              "word2vec-google-news-300                                              -0.092146   \n",
              "glove-wiki-gigaword-300                                                     NaN   \n",
              "fasttext-wiki-news-subwords-300                                        0.039421   \n",
              "\n",
              "query_name                       ethnicity and gender wrt health and excercise  \\\n",
              "model_name                                                                       \n",
              "word2vec-google-news-300                                             -0.348471   \n",
              "glove-wiki-gigaword-300                                              -0.365605   \n",
              "fasttext-wiki-news-subwords-300                                      -0.159674   \n",
              "\n",
              "query_name                       ethnicity and gender wrt healthissues and excercise  \\\n",
              "model_name                                                                             \n",
              "word2vec-google-news-300                                                 -0.304727     \n",
              "glove-wiki-gigaword-300                                                  -0.164669     \n",
              "fasttext-wiki-news-subwords-300                                          -0.072817     \n",
              "\n",
              "query_name                       female and maori wrt healthissues and excercise  \\\n",
              "model_name                                                                         \n",
              "word2vec-google-news-300                                                0.292163   \n",
              "glove-wiki-gigaword-300                                                 0.137607   \n",
              "fasttext-wiki-news-subwords-300                                        -0.033873   \n",
              "\n",
              "query_name                       white and maori wrt health and excercise  \n",
              "model_name                                                                 \n",
              "word2vec-google-news-300                                        -0.050812  \n",
              "glove-wiki-gigaword-300                                               NaN  \n",
              "fasttext-wiki-news-subwords-300                                  0.486761  "
            ]
          },
          "execution_count": 12,
          "metadata": {},
          "output_type": "execute_result"
        }
      ],
      "source": [
        "from wefe import WordEmbeddingModel, Query, WEAT\n",
        "from wefe.utils import run_queries\n",
        "\n",
        "ethnicity_queries = [ethnicity_query, gender_occupation_query,gender_occupation_query1,gender_occupation_query2,gender_occupation_query3]\n",
        "models = [word2vec_model, glove_wiki, model]\n",
        "weat = WEAT()\n",
        "# run the queries.\n",
        "results = run_queries(WEAT,ethnicity_queries, models)\n",
        "results\n"
      ]
    },
    {
      "cell_type": "code",
      "execution_count": null,
      "id": "c00e2a32",
      "metadata": {
        "id": "c00e2a32"
      },
      "outputs": [],
      "source": [
        "weat = WEAT()\n",
        "results = weat.run_query(gender_occupation_query, word2vec_model)\n",
        "\n",
        "results"
      ]
    },
    {
      "cell_type": "code",
      "execution_count": null,
      "id": "8ead35cb",
      "metadata": {
        "id": "8ead35cb"
      },
      "outputs": [],
      "source": [
        "weat = WEAT()\n",
        "results = weat.run_query(gender_occupation_query, glove_wiki)\n",
        "\n",
        "results"
      ]
    },
    {
      "cell_type": "code",
      "execution_count": null,
      "id": "3db66375",
      "metadata": {
        "id": "3db66375"
      },
      "outputs": [],
      "source": [
        "weat = WEAT()\n",
        "results = weat.run_query(gender_occupation_query, model)\n",
        "\n",
        "results"
      ]
    },
    {
      "cell_type": "code",
      "execution_count": null,
      "id": "c5bb3688",
      "metadata": {
        "id": "c5bb3688"
      },
      "outputs": [],
      "source": []
    }
  ],
  "metadata": {
    "kernelspec": {
      "display_name": "Python 3 (ipykernel)",
      "language": "python",
      "name": "python3"
    },
    "language_info": {
      "codemirror_mode": {
        "name": "ipython",
        "version": 3
      },
      "file_extension": ".py",
      "mimetype": "text/x-python",
      "name": "python",
      "nbconvert_exporter": "python",
      "pygments_lexer": "ipython3",
      "version": "3.8.13"
    },
    "colab": {
      "provenance": []
    }
  },
  "nbformat": 4,
  "nbformat_minor": 5
}